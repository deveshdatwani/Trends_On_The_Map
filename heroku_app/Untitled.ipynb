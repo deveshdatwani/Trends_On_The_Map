{
 "cells": [
  {
   "cell_type": "code",
   "execution_count": 43,
   "metadata": {},
   "outputs": [],
   "source": [
    "import requests\n",
    "import os\n",
    "import pandas as pd"
   ]
  },
  {
   "cell_type": "code",
   "execution_count": 44,
   "metadata": {},
   "outputs": [],
   "source": [
    "url = 'https://api.twitter.com/1.1/trends/available.json'\n",
    "bearer = os.environ['BEARER_TOKEN']\n",
    "response = requests.get(url=url, headers = {'authorization': 'Bearer ' + bearer})\n",
    "worldwide_trending = response.json()"
   ]
  },
  {
   "cell_type": "code",
   "execution_count": 45,
   "metadata": {},
   "outputs": [],
   "source": [
    "city_coordinates = pd.read_csv('worldcities.csv')\n",
    "trending_woeid = [[trend['name'], trend['country'], trend['woeid']] for trend in worldwide_trending]\n",
    "trending_woeid = pd.DataFrame(trending_woeid, columns = ['city', 'country', 'woeid'])"
   ]
  },
  {
   "cell_type": "code",
   "execution_count": 46,
   "metadata": {},
   "outputs": [],
   "source": [
    "city_coordinates = city_coordinates[['city', 'lat', 'lng', 'country']]\n",
    "trending_cities = trending_woeid.merge(b, on=['country','city'])"
   ]
  },
  {
   "cell_type": "code",
   "execution_count": 47,
   "metadata": {},
   "outputs": [
    {
     "data": {
      "text/html": [
       "<div>\n",
       "<style scoped>\n",
       "    .dataframe tbody tr th:only-of-type {\n",
       "        vertical-align: middle;\n",
       "    }\n",
       "\n",
       "    .dataframe tbody tr th {\n",
       "        vertical-align: top;\n",
       "    }\n",
       "\n",
       "    .dataframe thead th {\n",
       "        text-align: right;\n",
       "    }\n",
       "</style>\n",
       "<table border=\"1\" class=\"dataframe\">\n",
       "  <thead>\n",
       "    <tr style=\"text-align: right;\">\n",
       "      <th></th>\n",
       "      <th>city</th>\n",
       "      <th>country</th>\n",
       "      <th>woeid</th>\n",
       "      <th>lat</th>\n",
       "      <th>lng</th>\n",
       "    </tr>\n",
       "  </thead>\n",
       "  <tbody>\n",
       "    <tr>\n",
       "      <th>0</th>\n",
       "      <td>Winnipeg</td>\n",
       "      <td>Canada</td>\n",
       "      <td>2972</td>\n",
       "      <td>49.8830</td>\n",
       "      <td>-97.1660</td>\n",
       "    </tr>\n",
       "    <tr>\n",
       "      <th>1</th>\n",
       "      <td>Ottawa</td>\n",
       "      <td>Canada</td>\n",
       "      <td>3369</td>\n",
       "      <td>45.4167</td>\n",
       "      <td>-75.7000</td>\n",
       "    </tr>\n",
       "    <tr>\n",
       "      <th>2</th>\n",
       "      <td>Toronto</td>\n",
       "      <td>Canada</td>\n",
       "      <td>4118</td>\n",
       "      <td>43.7000</td>\n",
       "      <td>-79.4200</td>\n",
       "    </tr>\n",
       "    <tr>\n",
       "      <th>3</th>\n",
       "      <td>Edmonton</td>\n",
       "      <td>Canada</td>\n",
       "      <td>8676</td>\n",
       "      <td>53.5500</td>\n",
       "      <td>-113.5000</td>\n",
       "    </tr>\n",
       "    <tr>\n",
       "      <th>4</th>\n",
       "      <td>Calgary</td>\n",
       "      <td>Canada</td>\n",
       "      <td>8775</td>\n",
       "      <td>51.0830</td>\n",
       "      <td>-114.0800</td>\n",
       "    </tr>\n",
       "    <tr>\n",
       "      <th>...</th>\n",
       "      <td>...</td>\n",
       "      <td>...</td>\n",
       "      <td>...</td>\n",
       "      <td>...</td>\n",
       "      <td>...</td>\n",
       "    </tr>\n",
       "    <tr>\n",
       "      <th>382</th>\n",
       "      <td>Washington</td>\n",
       "      <td>United States</td>\n",
       "      <td>2514815</td>\n",
       "      <td>40.1739</td>\n",
       "      <td>-80.2465</td>\n",
       "    </tr>\n",
       "    <tr>\n",
       "      <th>383</th>\n",
       "      <td>Washington</td>\n",
       "      <td>United States</td>\n",
       "      <td>2514815</td>\n",
       "      <td>38.6592</td>\n",
       "      <td>-87.1721</td>\n",
       "    </tr>\n",
       "    <tr>\n",
       "      <th>384</th>\n",
       "      <td>Washington</td>\n",
       "      <td>United States</td>\n",
       "      <td>2514815</td>\n",
       "      <td>41.2982</td>\n",
       "      <td>-91.6928</td>\n",
       "    </tr>\n",
       "    <tr>\n",
       "      <th>385</th>\n",
       "      <td>Delhi</td>\n",
       "      <td>India</td>\n",
       "      <td>20070458</td>\n",
       "      <td>28.6700</td>\n",
       "      <td>77.2300</td>\n",
       "    </tr>\n",
       "    <tr>\n",
       "      <th>386</th>\n",
       "      <td>Okayama</td>\n",
       "      <td>Japan</td>\n",
       "      <td>90036018</td>\n",
       "      <td>34.6720</td>\n",
       "      <td>133.9171</td>\n",
       "    </tr>\n",
       "  </tbody>\n",
       "</table>\n",
       "<p>387 rows × 5 columns</p>\n",
       "</div>"
      ],
      "text/plain": [
       "           city        country     woeid      lat       lng\n",
       "0      Winnipeg         Canada      2972  49.8830  -97.1660\n",
       "1        Ottawa         Canada      3369  45.4167  -75.7000\n",
       "2       Toronto         Canada      4118  43.7000  -79.4200\n",
       "3      Edmonton         Canada      8676  53.5500 -113.5000\n",
       "4       Calgary         Canada      8775  51.0830 -114.0800\n",
       "..          ...            ...       ...      ...       ...\n",
       "382  Washington  United States   2514815  40.1739  -80.2465\n",
       "383  Washington  United States   2514815  38.6592  -87.1721\n",
       "384  Washington  United States   2514815  41.2982  -91.6928\n",
       "385       Delhi          India  20070458  28.6700   77.2300\n",
       "386     Okayama          Japan  90036018  34.6720  133.9171\n",
       "\n",
       "[387 rows x 5 columns]"
      ]
     },
     "execution_count": 47,
     "metadata": {},
     "output_type": "execute_result"
    }
   ],
   "source": [
    "trending_cities"
   ]
  },
  {
   "cell_type": "code",
   "execution_count": null,
   "metadata": {},
   "outputs": [],
   "source": []
  },
  {
   "cell_type": "code",
   "execution_count": null,
   "metadata": {},
   "outputs": [],
   "source": []
  },
  {
   "cell_type": "code",
   "execution_count": null,
   "metadata": {},
   "outputs": [],
   "source": []
  },
  {
   "cell_type": "code",
   "execution_count": null,
   "metadata": {},
   "outputs": [],
   "source": []
  },
  {
   "cell_type": "code",
   "execution_count": null,
   "metadata": {
    "scrolled": true
   },
   "outputs": [],
   "source": []
  },
  {
   "cell_type": "code",
   "execution_count": null,
   "metadata": {},
   "outputs": [],
   "source": []
  },
  {
   "cell_type": "code",
   "execution_count": null,
   "metadata": {},
   "outputs": [],
   "source": []
  },
  {
   "cell_type": "code",
   "execution_count": null,
   "metadata": {},
   "outputs": [],
   "source": []
  },
  {
   "cell_type": "code",
   "execution_count": null,
   "metadata": {},
   "outputs": [],
   "source": []
  },
  {
   "cell_type": "code",
   "execution_count": null,
   "metadata": {},
   "outputs": [],
   "source": []
  },
  {
   "cell_type": "code",
   "execution_count": null,
   "metadata": {},
   "outputs": [],
   "source": []
  },
  {
   "cell_type": "code",
   "execution_count": null,
   "metadata": {},
   "outputs": [],
   "source": []
  }
 ],
 "metadata": {
  "kernelspec": {
   "display_name": "Python 3",
   "language": "python",
   "name": "python3"
  },
  "language_info": {
   "codemirror_mode": {
    "name": "ipython",
    "version": 3
   },
   "file_extension": ".py",
   "mimetype": "text/x-python",
   "name": "python",
   "nbconvert_exporter": "python",
   "pygments_lexer": "ipython3",
   "version": "3.8.2"
  }
 },
 "nbformat": 4,
 "nbformat_minor": 4
}
