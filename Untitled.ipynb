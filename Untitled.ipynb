{
 "cells": [
  {
   "cell_type": "code",
   "execution_count": 105,
   "metadata": {},
   "outputs": [
    {
     "name": "stdout",
     "output_type": "stream",
     "text": [
      "The txt file contains the number 2\n",
      "split end = 140\n",
      "split start = 70\n",
      "3\n"
     ]
    }
   ],
   "source": [
    "import os\n",
    "#from boto.s3.connection import S3Connection\n",
    "import requests\n",
    "import pandas as pd\n",
    "\n",
    "bearer_token = os.environ['BEARER_TOKEN']\n",
    "with open('inter.txt', 'r') as f:\n",
    "    inter = f.read()\n",
    "    f.close()\n",
    "inter = int(inter)\n",
    "print('The txt file contains the number {}'.format(inter))\n",
    "split_end = int(inter) * 70\n",
    "print('split end = {}'.format(split_end))\n",
    "split_start = int(split_end) - 70\n",
    "print('split start = {}'.format(split_start))\n",
    "url = 'https://api.twitter.com/1.1/trends/available.json'\n",
    "bearer = os.environ['BEARER_TOKEN']\n",
    "response = requests.get(url=url, headers = {'authorization': 'Bearer ' + bearer})\n",
    "response = response.json()\n",
    "trending_cities = []\n",
    "print('Available trends acquired')\n",
    "\n",
    "for trend in response:\n",
    "    trending_cities.append([trend['name'], trend['country'], trend['woeid']])\n",
    "\n",
    "trending_cities_df = pd.DataFrame(trending_cities, columns=['city','country','woeid'])\n",
    "city_coordinates = pd.read_csv('worldcities.csv')\n",
    "city_coordinates = city_coordinates[['city','country','lat','lng']]\n",
    "trending_cities_df = trending_cities_df.merge(city_coordinates,on=['country','city'])\n",
    "woeids = trending_cities_df['woeid'].values\n",
    "trends_in_woeids = []\n",
    "url2 = 'https://api.twitter.com/1.1/trends/place.json'\n",
    "woeids = woeids[split_start:split_end]\n",
    "\n",
    "for woeid in woeids:\n",
    "    param = {'id':woeid}\n",
    "    response = requests.get(url = url2, headers = {'authorization': 'Bearer ' + bearer}, params = param).json()\n",
    "    print('Acquiring trends for {}'.format(woeid))\n",
    "    trends_in_woeids.append(response)\t\n",
    "\n",
    "print('All trends acquired')\n",
    "trending_seventy_in_woeids = trends_in_woeids[split_start:split_end]\n",
    "l1 = []\n",
    "\n",
    "for i in trending_seventy_in_woeids:\n",
    "    l2 = []\n",
    "    for j in i[0]['trends']:\n",
    "        l2.append(j['name'])\n",
    "    l1.append(l2)\n",
    "\n",
    "trending_seventy = trending_cities_df[split_start:split_end]\n",
    "trending_seventy.insert(5, 'trends', l1)\n",
    "trending_seventy.to_csv('trending_cities.csv')\n",
    "if inter > 4:\n",
    "    with open('inter.txt', 'w') as f:\n",
    "        f.truncate(0)\n",
    "        f.write('{}'.format('1'))\n",
    "        f.close()\n",
    "else:\n",
    "    inter += 1\n",
    "    print(inter)\n",
    "    with open('inter.txt', 'w') as f:\n",
    "        f.truncate(0)\n",
    "        f.write('{}'.format(str(inter)))\n",
    "        f.close()"
   ]
  },
  {
   "cell_type": "code",
   "execution_count": 89,
   "metadata": {
    "scrolled": false
   },
   "outputs": [
    {
     "data": {
      "text/plain": [
       "2"
      ]
     },
     "execution_count": 89,
     "metadata": {},
     "output_type": "execute_result"
    }
   ],
   "source": [
    "inter"
   ]
  },
  {
   "cell_type": "code",
   "execution_count": 64,
   "metadata": {},
   "outputs": [],
   "source": [
    "inter_read  = open('inter.txt', 'r+')\n",
    "inter = inter_read.read()"
   ]
  },
  {
   "cell_type": "code",
   "execution_count": 68,
   "metadata": {},
   "outputs": [
    {
     "data": {
      "text/plain": [
       "''"
      ]
     },
     "execution_count": 68,
     "metadata": {},
     "output_type": "execute_result"
    }
   ],
   "source": [
    "inter"
   ]
  },
  {
   "cell_type": "code",
   "execution_count": 90,
   "metadata": {},
   "outputs": [],
   "source": [
    "inter_read.close()"
   ]
  },
  {
   "cell_type": "code",
   "execution_count": 86,
   "metadata": {},
   "outputs": [],
   "source": [
    "with open('inter.txt','w') as f:\n",
    "    f.write(str(1))"
   ]
  },
  {
   "cell_type": "code",
   "execution_count": 87,
   "metadata": {},
   "outputs": [],
   "source": [
    "f.close()"
   ]
  },
  {
   "cell_type": "code",
   "execution_count": 69,
   "metadata": {},
   "outputs": [],
   "source": [
    "with open('inter.txt', 'r') as f:\n",
    "    inter = f.read()"
   ]
  },
  {
   "cell_type": "code",
   "execution_count": 70,
   "metadata": {},
   "outputs": [
    {
     "data": {
      "text/plain": [
       "'1'"
      ]
     },
     "execution_count": 70,
     "metadata": {},
     "output_type": "execute_result"
    }
   ],
   "source": [
    "inter"
   ]
  },
  {
   "cell_type": "code",
   "execution_count": 21,
   "metadata": {},
   "outputs": [
    {
     "data": {
      "text/plain": [
       "1"
      ]
     },
     "execution_count": 21,
     "metadata": {},
     "output_type": "execute_result"
    }
   ],
   "source": [
    "int(inter)"
   ]
  },
  {
   "cell_type": "code",
   "execution_count": null,
   "metadata": {},
   "outputs": [],
   "source": []
  }
 ],
 "metadata": {
  "kernelspec": {
   "display_name": "Python 3",
   "language": "python",
   "name": "python3"
  },
  "language_info": {
   "codemirror_mode": {
    "name": "ipython",
    "version": 3
   },
   "file_extension": ".py",
   "mimetype": "text/x-python",
   "name": "python",
   "nbconvert_exporter": "python",
   "pygments_lexer": "ipython3",
   "version": "3.8.2"
  }
 },
 "nbformat": 4,
 "nbformat_minor": 4
}
